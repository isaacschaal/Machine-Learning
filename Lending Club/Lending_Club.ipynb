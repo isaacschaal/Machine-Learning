{
 "cells": [
  {
   "cell_type": "code",
   "execution_count": 1,
   "metadata": {},
   "outputs": [],
   "source": [
    "import numpy as np\n",
    "import pandas as pd\n",
    "import matplotlib.pyplot as plt\n",
    "\n",
    "from sklearn_pandas import DataFrameMapper\n",
    "\n",
    "from sklearn import preprocessing\n",
    "from sklearn.ensemble import RandomForestClassifier, RandomForestRegressor\n",
    "from sklearn.model_selection import train_test_split\n",
    "from sklearn.metrics import classification_report\n",
    "from sklearn import metrics\n",
    "\n",
    "from sklearn.model_selection import GridSearchCV\n"
   ]
  },
  {
   "cell_type": "markdown",
   "metadata": {},
   "source": [
    "# Assignement 2 - Lending Club\n",
    "## Isaac Schaal\n",
    "\n",
    "### 1. Getting and Importing the data\n",
    "\n",
    "I chose the most recent data from the Lending Club Website. This was Q2 2018. This way, my predictive model would be as relevant as possible for future predictions, if it were to be applied in the real world."
   ]
  },
  {
   "cell_type": "code",
   "execution_count": 2,
   "metadata": {},
   "outputs": [
    {
     "data": {
      "text/html": [
       "<div>\n",
       "<style scoped>\n",
       "    .dataframe tbody tr th:only-of-type {\n",
       "        vertical-align: middle;\n",
       "    }\n",
       "\n",
       "    .dataframe tbody tr th {\n",
       "        vertical-align: top;\n",
       "    }\n",
       "\n",
       "    .dataframe thead th {\n",
       "        text-align: right;\n",
       "    }\n",
       "</style>\n",
       "<table border=\"1\" class=\"dataframe\">\n",
       "  <thead>\n",
       "    <tr style=\"text-align: right;\">\n",
       "      <th></th>\n",
       "      <th>id</th>\n",
       "      <th>member_id</th>\n",
       "      <th>loan_amnt</th>\n",
       "      <th>funded_amnt</th>\n",
       "      <th>funded_amnt_inv</th>\n",
       "      <th>term</th>\n",
       "      <th>int_rate</th>\n",
       "      <th>installment</th>\n",
       "      <th>grade</th>\n",
       "      <th>sub_grade</th>\n",
       "      <th>...</th>\n",
       "      <th>hardship_payoff_balance_amount</th>\n",
       "      <th>hardship_last_payment_amount</th>\n",
       "      <th>disbursement_method</th>\n",
       "      <th>debt_settlement_flag</th>\n",
       "      <th>debt_settlement_flag_date</th>\n",
       "      <th>settlement_status</th>\n",
       "      <th>settlement_date</th>\n",
       "      <th>settlement_amount</th>\n",
       "      <th>settlement_percentage</th>\n",
       "      <th>settlement_term</th>\n",
       "    </tr>\n",
       "  </thead>\n",
       "  <tbody>\n",
       "    <tr>\n",
       "      <th>0</th>\n",
       "      <td>NaN</td>\n",
       "      <td>NaN</td>\n",
       "      <td>10000</td>\n",
       "      <td>10000</td>\n",
       "      <td>10000</td>\n",
       "      <td>36 months</td>\n",
       "      <td>20.39%</td>\n",
       "      <td>373.63</td>\n",
       "      <td>D</td>\n",
       "      <td>D4</td>\n",
       "      <td>...</td>\n",
       "      <td>NaN</td>\n",
       "      <td>NaN</td>\n",
       "      <td>Cash</td>\n",
       "      <td>N</td>\n",
       "      <td>NaN</td>\n",
       "      <td>NaN</td>\n",
       "      <td>NaN</td>\n",
       "      <td>NaN</td>\n",
       "      <td>NaN</td>\n",
       "      <td>NaN</td>\n",
       "    </tr>\n",
       "    <tr>\n",
       "      <th>1</th>\n",
       "      <td>NaN</td>\n",
       "      <td>NaN</td>\n",
       "      <td>20000</td>\n",
       "      <td>20000</td>\n",
       "      <td>20000</td>\n",
       "      <td>60 months</td>\n",
       "      <td>13.06%</td>\n",
       "      <td>455.68</td>\n",
       "      <td>C</td>\n",
       "      <td>C1</td>\n",
       "      <td>...</td>\n",
       "      <td>NaN</td>\n",
       "      <td>NaN</td>\n",
       "      <td>DirectPay</td>\n",
       "      <td>N</td>\n",
       "      <td>NaN</td>\n",
       "      <td>NaN</td>\n",
       "      <td>NaN</td>\n",
       "      <td>NaN</td>\n",
       "      <td>NaN</td>\n",
       "      <td>NaN</td>\n",
       "    </tr>\n",
       "    <tr>\n",
       "      <th>2</th>\n",
       "      <td>NaN</td>\n",
       "      <td>NaN</td>\n",
       "      <td>14000</td>\n",
       "      <td>14000</td>\n",
       "      <td>14000</td>\n",
       "      <td>60 months</td>\n",
       "      <td>10.56%</td>\n",
       "      <td>301.34</td>\n",
       "      <td>B</td>\n",
       "      <td>B3</td>\n",
       "      <td>...</td>\n",
       "      <td>NaN</td>\n",
       "      <td>NaN</td>\n",
       "      <td>Cash</td>\n",
       "      <td>N</td>\n",
       "      <td>NaN</td>\n",
       "      <td>NaN</td>\n",
       "      <td>NaN</td>\n",
       "      <td>NaN</td>\n",
       "      <td>NaN</td>\n",
       "      <td>NaN</td>\n",
       "    </tr>\n",
       "    <tr>\n",
       "      <th>3</th>\n",
       "      <td>NaN</td>\n",
       "      <td>NaN</td>\n",
       "      <td>8000</td>\n",
       "      <td>8000</td>\n",
       "      <td>8000</td>\n",
       "      <td>36 months</td>\n",
       "      <td>6.83%</td>\n",
       "      <td>246.40</td>\n",
       "      <td>A</td>\n",
       "      <td>A3</td>\n",
       "      <td>...</td>\n",
       "      <td>NaN</td>\n",
       "      <td>NaN</td>\n",
       "      <td>Cash</td>\n",
       "      <td>N</td>\n",
       "      <td>NaN</td>\n",
       "      <td>NaN</td>\n",
       "      <td>NaN</td>\n",
       "      <td>NaN</td>\n",
       "      <td>NaN</td>\n",
       "      <td>NaN</td>\n",
       "    </tr>\n",
       "    <tr>\n",
       "      <th>4</th>\n",
       "      <td>NaN</td>\n",
       "      <td>NaN</td>\n",
       "      <td>22000</td>\n",
       "      <td>22000</td>\n",
       "      <td>22000</td>\n",
       "      <td>60 months</td>\n",
       "      <td>17.47%</td>\n",
       "      <td>552.34</td>\n",
       "      <td>D</td>\n",
       "      <td>D1</td>\n",
       "      <td>...</td>\n",
       "      <td>NaN</td>\n",
       "      <td>NaN</td>\n",
       "      <td>DirectPay</td>\n",
       "      <td>N</td>\n",
       "      <td>NaN</td>\n",
       "      <td>NaN</td>\n",
       "      <td>NaN</td>\n",
       "      <td>NaN</td>\n",
       "      <td>NaN</td>\n",
       "      <td>NaN</td>\n",
       "    </tr>\n",
       "  </tbody>\n",
       "</table>\n",
       "<p>5 rows × 145 columns</p>\n",
       "</div>"
      ],
      "text/plain": [
       "   id  member_id  loan_amnt  funded_amnt  funded_amnt_inv        term  \\\n",
       "0 NaN        NaN      10000        10000            10000   36 months   \n",
       "1 NaN        NaN      20000        20000            20000   60 months   \n",
       "2 NaN        NaN      14000        14000            14000   60 months   \n",
       "3 NaN        NaN       8000         8000             8000   36 months   \n",
       "4 NaN        NaN      22000        22000            22000   60 months   \n",
       "\n",
       "  int_rate  installment grade sub_grade       ...         \\\n",
       "0   20.39%       373.63     D        D4       ...          \n",
       "1   13.06%       455.68     C        C1       ...          \n",
       "2   10.56%       301.34     B        B3       ...          \n",
       "3    6.83%       246.40     A        A3       ...          \n",
       "4   17.47%       552.34     D        D1       ...          \n",
       "\n",
       "  hardship_payoff_balance_amount hardship_last_payment_amount  \\\n",
       "0                            NaN                          NaN   \n",
       "1                            NaN                          NaN   \n",
       "2                            NaN                          NaN   \n",
       "3                            NaN                          NaN   \n",
       "4                            NaN                          NaN   \n",
       "\n",
       "  disbursement_method  debt_settlement_flag debt_settlement_flag_date  \\\n",
       "0                Cash                     N                       NaN   \n",
       "1           DirectPay                     N                       NaN   \n",
       "2                Cash                     N                       NaN   \n",
       "3                Cash                     N                       NaN   \n",
       "4           DirectPay                     N                       NaN   \n",
       "\n",
       "  settlement_status settlement_date settlement_amount  settlement_percentage  \\\n",
       "0               NaN             NaN               NaN                    NaN   \n",
       "1               NaN             NaN               NaN                    NaN   \n",
       "2               NaN             NaN               NaN                    NaN   \n",
       "3               NaN             NaN               NaN                    NaN   \n",
       "4               NaN             NaN               NaN                    NaN   \n",
       "\n",
       "   settlement_term  \n",
       "0              NaN  \n",
       "1              NaN  \n",
       "2              NaN  \n",
       "3              NaN  \n",
       "4              NaN  \n",
       "\n",
       "[5 rows x 145 columns]"
      ]
     },
     "execution_count": 2,
     "metadata": {},
     "output_type": "execute_result"
    }
   ],
   "source": [
    "#the last two rows are empty\n",
    "approved = pd.read_csv(\"LoanStats_2018Q2.csv\", header=1, skipfooter=2, engine = 'python') \n",
    "approved.head()"
   ]
  },
  {
   "cell_type": "code",
   "execution_count": 3,
   "metadata": {},
   "outputs": [
    {
     "data": {
      "text/html": [
       "<div>\n",
       "<style scoped>\n",
       "    .dataframe tbody tr th:only-of-type {\n",
       "        vertical-align: middle;\n",
       "    }\n",
       "\n",
       "    .dataframe tbody tr th {\n",
       "        vertical-align: top;\n",
       "    }\n",
       "\n",
       "    .dataframe thead th {\n",
       "        text-align: right;\n",
       "    }\n",
       "</style>\n",
       "<table border=\"1\" class=\"dataframe\">\n",
       "  <thead>\n",
       "    <tr style=\"text-align: right;\">\n",
       "      <th></th>\n",
       "      <th>Amount Requested</th>\n",
       "      <th>Application Date</th>\n",
       "      <th>Loan Title</th>\n",
       "      <th>Risk_Score</th>\n",
       "      <th>Debt-To-Income Ratio</th>\n",
       "      <th>Zip Code</th>\n",
       "      <th>State</th>\n",
       "      <th>Employment Length</th>\n",
       "      <th>Policy Code</th>\n",
       "    </tr>\n",
       "  </thead>\n",
       "  <tbody>\n",
       "    <tr>\n",
       "      <th>0</th>\n",
       "      <td>10000.0</td>\n",
       "      <td>2018-04-01</td>\n",
       "      <td>Debt consolidation</td>\n",
       "      <td>NaN</td>\n",
       "      <td>35.76%</td>\n",
       "      <td>167xx</td>\n",
       "      <td>PA</td>\n",
       "      <td>&lt; 1 year</td>\n",
       "      <td>0</td>\n",
       "    </tr>\n",
       "    <tr>\n",
       "      <th>1</th>\n",
       "      <td>6000.0</td>\n",
       "      <td>2018-04-01</td>\n",
       "      <td>Credit card refinancing</td>\n",
       "      <td>NaN</td>\n",
       "      <td>13.19%</td>\n",
       "      <td>553xx</td>\n",
       "      <td>MN</td>\n",
       "      <td>6 years</td>\n",
       "      <td>2</td>\n",
       "    </tr>\n",
       "    <tr>\n",
       "      <th>2</th>\n",
       "      <td>3000.0</td>\n",
       "      <td>2018-04-01</td>\n",
       "      <td>Home improvement</td>\n",
       "      <td>NaN</td>\n",
       "      <td>100%</td>\n",
       "      <td>351xx</td>\n",
       "      <td>TN</td>\n",
       "      <td>&lt; 1 year</td>\n",
       "      <td>0</td>\n",
       "    </tr>\n",
       "    <tr>\n",
       "      <th>3</th>\n",
       "      <td>4000.0</td>\n",
       "      <td>2018-04-01</td>\n",
       "      <td>Car financing</td>\n",
       "      <td>NaN</td>\n",
       "      <td>1.93%</td>\n",
       "      <td>601xx</td>\n",
       "      <td>IL</td>\n",
       "      <td>&lt; 1 year</td>\n",
       "      <td>0</td>\n",
       "    </tr>\n",
       "    <tr>\n",
       "      <th>4</th>\n",
       "      <td>2000.0</td>\n",
       "      <td>2018-04-01</td>\n",
       "      <td>Other</td>\n",
       "      <td>NaN</td>\n",
       "      <td>14.96%</td>\n",
       "      <td>894xx</td>\n",
       "      <td>NV</td>\n",
       "      <td>&lt; 1 year</td>\n",
       "      <td>0</td>\n",
       "    </tr>\n",
       "  </tbody>\n",
       "</table>\n",
       "</div>"
      ],
      "text/plain": [
       "   Amount Requested Application Date               Loan Title  Risk_Score  \\\n",
       "0           10000.0       2018-04-01       Debt consolidation         NaN   \n",
       "1            6000.0       2018-04-01  Credit card refinancing         NaN   \n",
       "2            3000.0       2018-04-01         Home improvement         NaN   \n",
       "3            4000.0       2018-04-01            Car financing         NaN   \n",
       "4            2000.0       2018-04-01                    Other         NaN   \n",
       "\n",
       "  Debt-To-Income Ratio Zip Code State Employment Length  Policy Code  \n",
       "0               35.76%    167xx    PA          < 1 year            0  \n",
       "1               13.19%    553xx    MN           6 years            2  \n",
       "2                 100%    351xx    TN          < 1 year            0  \n",
       "3                1.93%    601xx    IL          < 1 year            0  \n",
       "4               14.96%    894xx    NV          < 1 year            0  "
      ]
     },
     "execution_count": 3,
     "metadata": {},
     "output_type": "execute_result"
    }
   ],
   "source": [
    "rejected = pd.read_csv(\"RejectStats_2018Q2.csv\", header=1, engine = 'python')\n",
    "rejected.head()"
   ]
  },
  {
   "cell_type": "markdown",
   "metadata": {},
   "source": [
    "### 2. Selecting Features\n",
    "\n",
    "The approved data set has 145 features, which was initally overwhelming. The rejected, however, only has 9. Thus, this narrowed down what we could use a lot. \n",
    "\n",
    "There are 9 features in the rejected column. At this stage, I chose 6 of them to use.\n",
    "\n",
    "1. **Amount Requested** - This is the amount requested in the loan.\n",
    "2. **Loan Title** - This is the purpose of the loan.\n",
    "3. **Debt-To-Income Ratio** - This is the Debt-to-Income ratio, showing the ratio of a persons' debt to income. Thus, a higher ratio indicates more current debt compared to income, which is not a good sign when asking for a loan.\n",
    "4. **Zip Code** - The zip code of the applicant, with the last two digits deleted. (This was eventually removed due to it creating too many features and overlapping with the State\n",
    "5. **State** - The state where the applicant resides\n",
    "6. **Employment Length** - How long the applicant has been employed. This ranges from <1 year to 10+ years, with some N/As\n",
    "\n",
    "There were several features from the rejected data that I didn't include. Firstly, the application date. There was no equivalent in the accepted data, and the exact date of the loan application didn't seem relevant to if it was rejected. Secondly, the Risk_Score. This seemed like it would be a helpful feature, however, it was not included for several reasons. Firstly, there was no equivalent in the accepted data. I tried to find something in the accepted data that could be converted, but without success. The Risk Scores range from 500 to over 900, while tipical FICO credit scores range from 300 to 850, so I didn't want to attempt that approach. Secondly, there were a large amount (over half) of N/As in the data. There are several methods to approach this, but with the knowledge that there is no equivalent feature in the approved, it was simply dropped. Finally, I didn't include Policy Code. There was an equivalent Policy Code in the approved data. However, it was 1 for all approved and either 0 or 2 for all rejected. Thus, it is perfectly correlated with the loan being approved, and wouldn't be appropriate to include in a classifier.\n",
    "\n",
    "\n",
    "I did a bit of pre-merge cleaning to make the data in rejected and approved match. This included changing the names of the columns, and deleting the % signs from the Debt to Income Ratio in the rejected data.\n",
    "\n",
    "I then combined the datasets into one set."
   ]
  },
  {
   "cell_type": "code",
   "execution_count": 4,
   "metadata": {},
   "outputs": [],
   "source": [
    "# Choose the features that are counterparts of the rejected data features\n",
    "cleaned_approved = approved.loc[:,[\n",
    "'loan_amnt', 'title',  'dti','zip_code', 'addr_state', 'emp_length']]\n",
    "cleaned_approved['approved'] = True\n"
   ]
  },
  {
   "cell_type": "code",
   "execution_count": 5,
   "metadata": {},
   "outputs": [],
   "source": [
    "# Select the correct features\n",
    "cleaned_rejected = rejected.loc[:, ['Amount Requested',\n",
    " 'Loan Title',\n",
    " 'Debt-To-Income Ratio',\n",
    " 'Zip Code',\n",
    " 'State',\n",
    " 'Employment Length']]"
   ]
  },
  {
   "cell_type": "code",
   "execution_count": 6,
   "metadata": {},
   "outputs": [],
   "source": [
    "# Change the column names to the new names\n",
    "cleaned_rejected.columns = [\n",
    "'loan_amnt', 'title',  'dti','zip_code', 'addr_state', 'emp_length']\n",
    "cleaned_rejected['approved'] = False\n",
    "\n",
    "# Delete the % in the dti\n",
    "newstr_list = []\n",
    "for string in cleaned_rejected.dti:\n",
    "    newstr = string.replace(\"%\", '')\n",
    "    newstr_list.append(newstr)\n",
    "cleaned_rejected['dti'] = newstr_list\n"
   ]
  },
  {
   "cell_type": "code",
   "execution_count": 7,
   "metadata": {},
   "outputs": [],
   "source": [
    "# Combine the data\n",
    "loan_data = pd.concat([cleaned_approved, cleaned_rejected]).reset_index(drop=True)"
   ]
  },
  {
   "cell_type": "markdown",
   "metadata": {},
   "source": [
    "### 3. Cleaning\n",
    "\n",
    "I then started to clean the data.\n",
    "\n",
    "The first thing to do was to change some of the categories in the title column. The only categories that needed help were 'Business' and \"Business Loan', where were merged into 'Business'\n",
    "\n",
    "I then looked for N/As in the features.\n",
    "\n",
    "The first was dti, which had 326 missing values. Through looking at the histograms of the data, it was clear that it was heavily skewed, and thus it was better to fill the N/As with the median (as opposed to the mean). There were also -1 values in the dti. Everyone who had -1 values for dti also had <1 year of employment, so I assumed that they were unable to calculate it due to lack of income. To fix this, during the rescaling stage I changed all -1's to the max of the rescaled data, in order to show that these data points have poor dti ratios (which is consistent with them not having income).\n",
    "\n",
    "The second feature which needed help was the emplyment length. They previosuly were all strings, and I converted them to floats, setting 10+ to 10 and <1 year to 0.5. I then set all of the N/As (2.85%) to 0. This relies on the assumpution that anyone who is employed would include that in their application for a loan, and thus the N/As are probably not employed.\n",
    "\n",
    "I also dropped the Zip Code feature. Upon examination, there were almost 1,000 unique zip codes. The only way to use these in a predictive model would be to onehot encode them, and this would create almost a thousand new dimensions, with almost all of data points being 0. This seemed like it wouldn't add much to the model, especially given that this data overlaps with the addr_state, as it is the location.\n",
    "\n",
    "Finally, I converted the title and addr_state columns to categorical data."
   ]
  },
  {
   "cell_type": "code",
   "execution_count": 8,
   "metadata": {},
   "outputs": [
    {
     "data": {
      "text/plain": [
       "array(['Business', 'Business Loan', 'Car financing',\n",
       "       'Credit card refinancing', 'Debt consolidation', 'Green loan',\n",
       "       'Home buying', 'Home improvement', 'Major purchase',\n",
       "       'Medical expenses', 'Moving and relocation', 'Other', 'Vacation'],\n",
       "      dtype=object)"
      ]
     },
     "execution_count": 8,
     "metadata": {},
     "output_type": "execute_result"
    }
   ],
   "source": [
    "# Look at the titles\n",
    "np.unique(loan_data.title)"
   ]
  },
  {
   "cell_type": "code",
   "execution_count": 9,
   "metadata": {},
   "outputs": [],
   "source": [
    "#Replace the title 'Business Loan' (only present in approved) with 'Business' (found in both)\n",
    "loan_data.title = loan_data.title.replace('Business Loan','Business')"
   ]
  },
  {
   "cell_type": "code",
   "execution_count": 10,
   "metadata": {},
   "outputs": [
    {
     "data": {
      "text/plain": [
       "array(['Business', 'Car financing', 'Credit card refinancing',\n",
       "       'Debt consolidation', 'Green loan', 'Home buying',\n",
       "       'Home improvement', 'Major purchase', 'Medical expenses',\n",
       "       'Moving and relocation', 'Other', 'Vacation'], dtype=object)"
      ]
     },
     "execution_count": 10,
     "metadata": {},
     "output_type": "execute_result"
    }
   ],
   "source": [
    "# The titles are the same\n",
    "np.unique(loan_data.title)"
   ]
  },
  {
   "cell_type": "code",
   "execution_count": 11,
   "metadata": {},
   "outputs": [
    {
     "name": "stdout",
     "output_type": "stream",
     "text": [
      "loan_amnt: 0, 0.0%\n",
      "title: 0, 0.0%\n",
      "dti: 326, 0.0127%\n",
      "zip_code: 0, 0.0%\n",
      "addr_state: 0, 0.0%\n",
      "emp_length: 73543, 2.8585%\n",
      "approved: 0, 0.0%\n"
     ]
    }
   ],
   "source": [
    "# Explore the features for NAs\n",
    "for column in loan_data.columns:\n",
    "    blanks = loan_data[column].isnull().sum()\n",
    "    print(\"{}: {}, {}%\".format(column, blanks, 100*np.round(blanks/float(len(loan_data)), 6)))\n",
    "    "
   ]
  },
  {
   "cell_type": "code",
   "execution_count": 12,
   "metadata": {},
   "outputs": [],
   "source": [
    "# EMP_LENGTH\n",
    "\n",
    "# We'll do three changes to the emp_length feature\n",
    "# First, we'll convert all of them to numbers instead of strings\n",
    "\n",
    "# We'll change '<1 year' to 0.5, and we'll change the N/As to 0. This is \n",
    "# making the assumption that if people were applying for a loan, and they\n",
    "# were employed, they would include it, and thus the NA's are most likely\n",
    "# not employed. This also puts it close to <1 year, the closest to no employment\n",
    "\n",
    "# Finally, we'll change the data type to float.\n",
    "# We want to keep these as float data types (instead of converting to categorical)\n",
    "# because there is a relationship in employment length, where 2 years is closer\n",
    "# to 3 years than to 9 years.\n",
    "\n",
    "year_change = [('< 1 year',0.5),(\"1 year\",1), ('2 years',2),('3 years',3),\n",
    "               ('4 years',4),('5 years',5),('6 years',6),\n",
    "               ('7 years',7),('8 years',8),('9 years',9),('10+ years',10)]\n",
    "\n",
    "for find, replace in year_change:\n",
    "    loan_data.emp_length.replace(find,replace, inplace = True)\n",
    "loan_data.emp_length.fillna(\"0\", inplace = True)\n",
    "\n",
    "loan_data.emp_length = loan_data.emp_length.astype(float)"
   ]
  },
  {
   "cell_type": "code",
   "execution_count": 13,
   "metadata": {},
   "outputs": [
    {
     "data": {
      "image/png": "[encoded data removed]",
      "text/plain": [
       "<Figure size 432x288 with 1 Axes>"
      ]
     },
     "metadata": {
      "needs_background": "light"
     },
     "output_type": "display_data"
    },
    {
     "name": "stdout",
     "output_type": "stream",
     "text": [
      "DTI Summary Satistics\n",
      "mean 102.86531663677926\n",
      "median 20.71\n",
      "min -1.0\n",
      "max 724496.0\n"
     ]
    },
    {
     "data": {
      "image/png": "[encoded data removed]",
      "text/plain": [
       "<Figure size 432x288 with 1 Axes>"
      ]
     },
     "metadata": {
      "needs_background": "light"
     },
     "output_type": "display_data"
    }
   ],
   "source": [
    "#With DTI, wee see a small amount of NA's, \n",
    "loan_data.dti = loan_data.dti.astype(float)\n",
    "\n",
    "plt.hist(loan_data.dti.dropna())\n",
    "plt.title('DTI Histogram')\n",
    "plt.show()\n",
    "# This histogram is pretty uninformative\n",
    "\n",
    "# We can then look at the summary statistics\n",
    "print(\"DTI Summary Satistics\")\n",
    "print(\"mean\", np.mean(loan_data.dti.dropna()))\n",
    "print(\"median\", np.median(loan_data.dti.dropna()))\n",
    "print(\"min\", np.min(loan_data.dti.dropna()))\n",
    "print(\"max\", np.max(loan_data.dti.dropna()))\n",
    "\n",
    "plt.hist(loan_data.dti.dropna(), bins=10, range=(0, 400))\n",
    "plt.title(\"DTI Histogram: Range 0-400\")\n",
    "plt.show()\n",
    "\n",
    "# We can see a clear skew to the right, with the mean much larger than\n",
    "# the median. The max as well indicates that there are extreme outliers"
   ]
  },
  {
   "cell_type": "code",
   "execution_count": 14,
   "metadata": {},
   "outputs": [],
   "source": [
    "# We'll replace the N/A's with median, (as opposed to the mean)\n",
    "# as its robust to outliers\n",
    "loan_data.dti.fillna(np.median(loan_data.dti.dropna()), inplace=True)\n",
    "\n"
   ]
  },
  {
   "cell_type": "code",
   "execution_count": 15,
   "metadata": {},
   "outputs": [
    {
     "name": "stdout",
     "output_type": "stream",
     "text": [
      "[0.5]\n"
     ]
    }
   ],
   "source": [
    "# We also need to deal with the -1 scores\n",
    "\n",
    "# All people who had -1 on their thing also had less than 1 year of work, \n",
    "# so, I'm assuming the -1 comes from not being able to compute the DTI\n",
    "# due to zero income\n",
    "\n",
    "print (np.unique(\n",
    "    loan_data.where(loan_data.dti <0).dropna(how = \"all\").emp_length))"
   ]
  },
  {
   "cell_type": "code",
   "execution_count": 16,
   "metadata": {},
   "outputs": [
    {
     "name": "stdout",
     "output_type": "stream",
     "text": [
      "loan_amnt: 0, 0.0%\n",
      "title: 0, 0.0%\n",
      "dti: 0, 0.0%\n",
      "zip_code: 0, 0.0%\n",
      "addr_state: 0, 0.0%\n",
      "emp_length: 0, 0.0%\n",
      "approved: 0, 0.0%\n"
     ]
    }
   ],
   "source": [
    "# Explore for NAs\n",
    "for column in loan_data.columns:\n",
    "    blanks = loan_data[column].isnull().sum()\n",
    "    print(\"{}: {}, {}%\".format(column, blanks, 100*np.round(blanks/float(len(loan_data)), 6)))"
   ]
  },
  {
   "cell_type": "code",
   "execution_count": 17,
   "metadata": {},
   "outputs": [
    {
     "data": {
      "text/plain": [
       "976"
      ]
     },
     "execution_count": 17,
     "metadata": {},
     "output_type": "execute_result"
    }
   ],
   "source": [
    "# Zip codes\n",
    "len(np.unique(loan_data.zip_code))"
   ]
  },
  {
   "cell_type": "code",
   "execution_count": 18,
   "metadata": {},
   "outputs": [],
   "source": [
    "# We're going to drop this, as the only way to use this would be \n",
    "# as a categorical variable with onehot encoding.\n",
    "# This however would create 976 additional dimensions, almost all of\n",
    "# of which would be 0. Secondly, it has lots of overlap with the State,\n",
    "# which we are keeping\n",
    "\n",
    "loan_data = loan_data.drop('zip_code', axis = 1)"
   ]
  },
  {
   "cell_type": "code",
   "execution_count": 19,
   "metadata": {},
   "outputs": [
    {
     "data": {
      "text/plain": [
       "loan_amnt      float64\n",
       "title         category\n",
       "dti            float64\n",
       "addr_state    category\n",
       "emp_length     float64\n",
       "approved          bool\n",
       "dtype: object"
      ]
     },
     "execution_count": 19,
     "metadata": {},
     "output_type": "execute_result"
    }
   ],
   "source": [
    "# Change the title and addr_state to categorical\n",
    "names = ['title', 'addr_state']\n",
    "for name in names:\n",
    "    loan_data[name] = loan_data[name].astype('category')\n",
    "    \n",
    "loan_data.dtypes"
   ]
  },
  {
   "cell_type": "markdown",
   "metadata": {},
   "source": [
    "### 4. Scaling \n",
    "\n",
    "The next thing that I needed to do was scale the data and get it ready for use in scikit. We want our data to be approximatley normally distributed, or at least as close as we can do it. This is important as the assumption of normality is underlying the model process,and give credibility to the metrics that we use.\n",
    "\n",
    "I created histograms for loan_amnt, dti, and emp_length. All of them were skewed to the right, which can be seen from the histograms and the mean and median. To fix this, I first logged all of the features, which turns exponential relationships into linear linear relationships. I then used Robust Scaler to scale the data. Robust Scaler uses the median and interquartile range to scale, making it more Robust to outliers (which we have). The scaled histograms are also plotted. Both the loan_amnt and dti are approximately normal, which can be seen by the closeness of the mean and the median (as well as the histograms). The emp_lenght was still skewed to the right, though not as much as before. This feature would bhe a candidate for future work, as I could try more ways to scale the feature to be normal.\n",
    "\n",
    "The categorical data needed to be encoded. I first converted it to integers, and then used OneHot Encoding to create *n* features for each of the *n* integers (for example, with the states, there were 51 dummy variables for the 50 states + Washington D.C.)\n"
   ]
  },
  {
   "cell_type": "code",
   "execution_count": 20,
   "metadata": {},
   "outputs": [
    {
     "name": "stdout",
     "output_type": "stream",
     "text": [
      "loan_amnt\n",
      "Mean: 12530.320166479254\n",
      "Median: 10000.0\n",
      "Max: 300000.0\n",
      "\n"
     ]
    },
    {
     "data": {
      "image/png": "[encoded data removed]",
      "text/plain": [
       "<Figure size 432x288 with 1 Axes>"
      ]
     },
     "metadata": {
      "needs_background": "light"
     },
     "output_type": "display_data"
    },
    {
     "name": "stdout",
     "output_type": "stream",
     "text": [
      "dti\n",
      "Mean: 102.85490653008671\n",
      "Median: 20.71\n",
      "Max: 724496.0\n",
      "\n"
     ]
    },
    {
     "data": {
      "image/png": "[encoded data removed]",
      "text/plain": [
       "<Figure size 432x288 with 1 Axes>"
      ]
     },
     "metadata": {
      "needs_background": "light"
     },
     "output_type": "display_data"
    },
    {
     "name": "stdout",
     "output_type": "stream",
     "text": [
      "emp_length\n",
      "Mean: 1.0110863732352076\n",
      "Median: 0.5\n",
      "Max: 10.0\n",
      "\n"
     ]
    },
    {
     "data": {
      "image/png": "[encoded data removed]",
      "text/plain": [
       "<Figure size 432x288 with 1 Axes>"
      ]
     },
     "metadata": {
      "needs_background": "light"
     },
     "output_type": "display_data"
    }
   ],
   "source": [
    "for feature in ['loan_amnt','dti','emp_length']:\n",
    "    plt.hist(loan_data[feature])\n",
    "    print(feature)\n",
    "    print(\"Mean: {}\".format(np.mean(loan_data[feature])))\n",
    "    print(\"Median: {}\".format(np.median(loan_data[feature])))\n",
    "    print(\"Max: {}\".format(np.max(loan_data[feature])))\n",
    "    print()\n",
    "    plt.title(feature)\n",
    "    plt.show()\n",
    "    "
   ]
  },
  {
   "cell_type": "code",
   "execution_count": 21,
   "metadata": {},
   "outputs": [
    {
     "data": {
      "image/png": "[encoded data removed]",
      "text/plain": [
       "<Figure size 432x288 with 1 Axes>"
      ]
     },
     "metadata": {
      "needs_background": "light"
     },
     "output_type": "display_data"
    },
    {
     "data": {
      "image/png": "[encoded data removed]",
      "text/plain": [
       "<Figure size 432x288 with 1 Axes>"
      ]
     },
     "metadata": {
      "needs_background": "light"
     },
     "output_type": "display_data"
    }
   ],
   "source": [
    "# Make scale adjustments to see the plots without outliers\n",
    "# for loan_amnt and dti\n",
    "\n",
    "for feature,rang in [('loan_amnt',60000),('dti',400)]:\n",
    "    plt.hist(loan_data[feature], range=(0,rang))\n",
    "    plt.title(feature)\n",
    "    plt.show()"
   ]
  },
  {
   "cell_type": "code",
   "execution_count": 22,
   "metadata": {},
   "outputs": [],
   "source": [
    "# Scikit learn needs to convert categories to integers\n",
    "for feature in ['title', 'addr_state']:\n",
    "    loan_data[feature] = loan_data[feature].cat.codes\n",
    "    \n",
    "\n",
    "# Scale the numercial values, we'll log each of them to try\n",
    "# and get an approximately normal dist so we can be justified in\n",
    "# using our evaluation metrics\n",
    "\n",
    "# We use log1p beause it won't cause an error with 0 values \n",
    "# and lets us deal with the -1 dti values\n",
    "loan_data.loan_amnt = loan_data.loan_amnt.apply(np.log1p)\n",
    "loan_data.emp_length = loan_data.emp_length.apply(np.log1p)\n",
    "loan_data.dti = loan_data.dti.apply(np.log1p)\n",
    "\n",
    "# From log1p, the -1 values become log(-1+1)=log(0)= -inf\n",
    "# Remember that all of these data points had <1 year of work\n",
    "# and so we are assuming that the -1 on the dti came from having \n",
    "# no income (dividing by 0 would give inf)\n",
    "\n",
    "# We want them to thus be the worst in the dti, and so we'll replace \n",
    "# all -inf with the max\n",
    "\n",
    "loan_data.dti = loan_data.dti.replace(-np.inf, max(loan_data.dti)+1)"
   ]
  },
  {
   "cell_type": "code",
   "execution_count": 23,
   "metadata": {},
   "outputs": [
    {
     "data": {
      "text/plain": [
       "loan_amnt     float64\n",
       "title            int8\n",
       "dti           float64\n",
       "addr_state       int8\n",
       "emp_length    float64\n",
       "approved         bool\n",
       "dtype: object"
      ]
     },
     "execution_count": 23,
     "metadata": {},
     "output_type": "execute_result"
    }
   ],
   "source": [
    "loan_data.dtypes\n",
    "# our data types are ready for processing"
   ]
  },
  {
   "cell_type": "code",
   "execution_count": 24,
   "metadata": {},
   "outputs": [
    {
     "name": "stderr",
     "output_type": "stream",
     "text": [
      "/usr/local/lib/python3.7/site-packages/sklearn/preprocessing/_encoders.py:363: FutureWarning: The handling of integer data will change in version 0.22. Currently, the categories are determined based on the range [0, max(values)], while in the future they will be determined based on the unique values.\n",
      "If you want the future behaviour and silence this warning, you can specify \"categories='auto'\".\n",
      "In case you used a LabelEncoder before this OneHotEncoder to convert the categories to integers, then you can now use the OneHotEncoder directly.\n",
      "  warnings.warn(msg, FutureWarning)\n",
      "/usr/local/lib/python3.7/site-packages/sklearn/preprocessing/_encoders.py:363: FutureWarning: The handling of integer data will change in version 0.22. Currently, the categories are determined based on the range [0, max(values)], while in the future they will be determined based on the unique values.\n",
      "If you want the future behaviour and silence this warning, you can specify \"categories='auto'\".\n",
      "In case you used a LabelEncoder before this OneHotEncoder to convert the categories to integers, then you can now use the OneHotEncoder directly.\n",
      "  warnings.warn(msg, FutureWarning)\n"
     ]
    }
   ],
   "source": [
    "encode_data = DataFrameMapper([\n",
    "        (['emp_length'], [preprocessing.RobustScaler()]),\n",
    "        (['title'], [preprocessing.OneHotEncoder()]),\n",
    "        (['addr_state'], [preprocessing.OneHotEncoder()]),\n",
    "        (['dti'], [preprocessing.RobustScaler()]),\n",
    "        (['loan_amnt'], [preprocessing.RobustScaler()]),\n",
    "        ('approved', None),\n",
    "    ], df_out= True)\n",
    "    \n",
    "processed_loan_data = encode_data.fit_transform(loan_data)\n"
   ]
  },
  {
   "cell_type": "code",
   "execution_count": 25,
   "metadata": {},
   "outputs": [
    {
     "data": {
      "text/html": [
       "<div>\n",
       "<style scoped>\n",
       "    .dataframe tbody tr th:only-of-type {\n",
       "        vertical-align: middle;\n",
       "    }\n",
       "\n",
       "    .dataframe tbody tr th {\n",
       "        vertical-align: top;\n",
       "    }\n",
       "\n",
       "    .dataframe thead th {\n",
       "        text-align: right;\n",
       "    }\n",
       "</style>\n",
       "<table border=\"1\" class=\"dataframe\">\n",
       "  <thead>\n",
       "    <tr style=\"text-align: right;\">\n",
       "      <th></th>\n",
       "      <th>emp_length</th>\n",
       "      <th>title_x0_0.0</th>\n",
       "      <th>title_x0_1.0</th>\n",
       "      <th>title_x0_2.0</th>\n",
       "      <th>title_x0_3.0</th>\n",
       "      <th>title_x0_4.0</th>\n",
       "      <th>title_x0_5.0</th>\n",
       "      <th>title_x0_6.0</th>\n",
       "      <th>title_x0_7.0</th>\n",
       "      <th>title_x0_8.0</th>\n",
       "      <th>...</th>\n",
       "      <th>addr_state_x0_44.0</th>\n",
       "      <th>addr_state_x0_45.0</th>\n",
       "      <th>addr_state_x0_46.0</th>\n",
       "      <th>addr_state_x0_47.0</th>\n",
       "      <th>addr_state_x0_48.0</th>\n",
       "      <th>addr_state_x0_49.0</th>\n",
       "      <th>addr_state_x0_50.0</th>\n",
       "      <th>dti</th>\n",
       "      <th>loan_amnt</th>\n",
       "      <th>approved</th>\n",
       "    </tr>\n",
       "  </thead>\n",
       "  <tbody>\n",
       "    <tr>\n",
       "      <th>0</th>\n",
       "      <td>0.980829</td>\n",
       "      <td>0.0</td>\n",
       "      <td>0.0</td>\n",
       "      <td>0.0</td>\n",
       "      <td>1.0</td>\n",
       "      <td>0.0</td>\n",
       "      <td>0.0</td>\n",
       "      <td>0.0</td>\n",
       "      <td>0.0</td>\n",
       "      <td>0.0</td>\n",
       "      <td>...</td>\n",
       "      <td>0.0</td>\n",
       "      <td>0.0</td>\n",
       "      <td>1.0</td>\n",
       "      <td>0.0</td>\n",
       "      <td>0.0</td>\n",
       "      <td>0.0</td>\n",
       "      <td>0.0</td>\n",
       "      <td>0.730427</td>\n",
       "      <td>0.000000</td>\n",
       "      <td>True</td>\n",
       "    </tr>\n",
       "    <tr>\n",
       "      <th>1</th>\n",
       "      <td>1.540445</td>\n",
       "      <td>0.0</td>\n",
       "      <td>0.0</td>\n",
       "      <td>0.0</td>\n",
       "      <td>1.0</td>\n",
       "      <td>0.0</td>\n",
       "      <td>0.0</td>\n",
       "      <td>0.0</td>\n",
       "      <td>0.0</td>\n",
       "      <td>0.0</td>\n",
       "      <td>...</td>\n",
       "      <td>0.0</td>\n",
       "      <td>0.0</td>\n",
       "      <td>0.0</td>\n",
       "      <td>0.0</td>\n",
       "      <td>0.0</td>\n",
       "      <td>0.0</td>\n",
       "      <td>0.0</td>\n",
       "      <td>0.043063</td>\n",
       "      <td>0.541148</td>\n",
       "      <td>True</td>\n",
       "    </tr>\n",
       "    <tr>\n",
       "      <th>2</th>\n",
       "      <td>1.791759</td>\n",
       "      <td>0.0</td>\n",
       "      <td>0.0</td>\n",
       "      <td>1.0</td>\n",
       "      <td>0.0</td>\n",
       "      <td>0.0</td>\n",
       "      <td>0.0</td>\n",
       "      <td>0.0</td>\n",
       "      <td>0.0</td>\n",
       "      <td>0.0</td>\n",
       "      <td>...</td>\n",
       "      <td>0.0</td>\n",
       "      <td>0.0</td>\n",
       "      <td>0.0</td>\n",
       "      <td>0.0</td>\n",
       "      <td>0.0</td>\n",
       "      <td>0.0</td>\n",
       "      <td>0.0</td>\n",
       "      <td>-0.197803</td>\n",
       "      <td>0.262685</td>\n",
       "      <td>True</td>\n",
       "    </tr>\n",
       "    <tr>\n",
       "      <th>3</th>\n",
       "      <td>0.693147</td>\n",
       "      <td>0.0</td>\n",
       "      <td>0.0</td>\n",
       "      <td>0.0</td>\n",
       "      <td>1.0</td>\n",
       "      <td>0.0</td>\n",
       "      <td>0.0</td>\n",
       "      <td>0.0</td>\n",
       "      <td>0.0</td>\n",
       "      <td>0.0</td>\n",
       "      <td>...</td>\n",
       "      <td>0.0</td>\n",
       "      <td>0.0</td>\n",
       "      <td>0.0</td>\n",
       "      <td>0.0</td>\n",
       "      <td>0.0</td>\n",
       "      <td>0.0</td>\n",
       "      <td>0.0</td>\n",
       "      <td>0.041082</td>\n",
       "      <td>-0.174204</td>\n",
       "      <td>True</td>\n",
       "    </tr>\n",
       "    <tr>\n",
       "      <th>4</th>\n",
       "      <td>1.992430</td>\n",
       "      <td>0.0</td>\n",
       "      <td>0.0</td>\n",
       "      <td>1.0</td>\n",
       "      <td>0.0</td>\n",
       "      <td>0.0</td>\n",
       "      <td>0.0</td>\n",
       "      <td>0.0</td>\n",
       "      <td>0.0</td>\n",
       "      <td>0.0</td>\n",
       "      <td>...</td>\n",
       "      <td>0.0</td>\n",
       "      <td>0.0</td>\n",
       "      <td>0.0</td>\n",
       "      <td>0.0</td>\n",
       "      <td>0.0</td>\n",
       "      <td>0.0</td>\n",
       "      <td>0.0</td>\n",
       "      <td>0.301326</td>\n",
       "      <td>0.615560</td>\n",
       "      <td>True</td>\n",
       "    </tr>\n",
       "  </tbody>\n",
       "</table>\n",
       "<p>5 rows × 67 columns</p>\n",
       "</div>"
      ],
      "text/plain": [
       "   emp_length  title_x0_0.0  title_x0_1.0  title_x0_2.0  title_x0_3.0  \\\n",
       "0    0.980829           0.0           0.0           0.0           1.0   \n",
       "1    1.540445           0.0           0.0           0.0           1.0   \n",
       "2    1.791759           0.0           0.0           1.0           0.0   \n",
       "3    0.693147           0.0           0.0           0.0           1.0   \n",
       "4    1.992430           0.0           0.0           1.0           0.0   \n",
       "\n",
       "   title_x0_4.0  title_x0_5.0  title_x0_6.0  title_x0_7.0  title_x0_8.0  \\\n",
       "0           0.0           0.0           0.0           0.0           0.0   \n",
       "1           0.0           0.0           0.0           0.0           0.0   \n",
       "2           0.0           0.0           0.0           0.0           0.0   \n",
       "3           0.0           0.0           0.0           0.0           0.0   \n",
       "4           0.0           0.0           0.0           0.0           0.0   \n",
       "\n",
       "     ...     addr_state_x0_44.0  addr_state_x0_45.0  addr_state_x0_46.0  \\\n",
       "0    ...                    0.0                 0.0                 1.0   \n",
       "1    ...                    0.0                 0.0                 0.0   \n",
       "2    ...                    0.0                 0.0                 0.0   \n",
       "3    ...                    0.0                 0.0                 0.0   \n",
       "4    ...                    0.0                 0.0                 0.0   \n",
       "\n",
       "   addr_state_x0_47.0  addr_state_x0_48.0  addr_state_x0_49.0  \\\n",
       "0                 0.0                 0.0                 0.0   \n",
       "1                 0.0                 0.0                 0.0   \n",
       "2                 0.0                 0.0                 0.0   \n",
       "3                 0.0                 0.0                 0.0   \n",
       "4                 0.0                 0.0                 0.0   \n",
       "\n",
       "   addr_state_x0_50.0       dti  loan_amnt  approved  \n",
       "0                 0.0  0.730427   0.000000      True  \n",
       "1                 0.0  0.043063   0.541148      True  \n",
       "2                 0.0 -0.197803   0.262685      True  \n",
       "3                 0.0  0.041082  -0.174204      True  \n",
       "4                 0.0  0.301326   0.615560      True  \n",
       "\n",
       "[5 rows x 67 columns]"
      ]
     },
     "execution_count": 25,
     "metadata": {},
     "output_type": "execute_result"
    }
   ],
   "source": [
    "processed_loan_data.head()"
   ]
  },
  {
   "cell_type": "code",
   "execution_count": 26,
   "metadata": {},
   "outputs": [
    {
     "name": "stdout",
     "output_type": "stream",
     "text": [
      "loan_amnt\n",
      "Mean: -0.16819644374521986\n",
      "Median: 0.0\n",
      "Max: 2.6554722175892262\n",
      "\n"
     ]
    },
    {
     "data": {
      "image/png": "[encoded data removed]",
      "text/plain": [
       "<Figure size 432x288 with 1 Axes>"
      ]
     },
     "metadata": {
      "needs_background": "light"
     },
     "output_type": "display_data"
    },
    {
     "name": "stdout",
     "output_type": "stream",
     "text": [
      "dti\n",
      "Mean: -0.03492872974442557\n",
      "Median: 0.0\n",
      "Max: 8.755973688691702\n",
      "\n"
     ]
    },
    {
     "data": {
      "image/png": "[encoded data removed]",
      "text/plain": [
       "<Figure size 432x288 with 1 Axes>"
      ]
     },
     "metadata": {
      "needs_background": "light"
     },
     "output_type": "display_data"
    },
    {
     "name": "stdout",
     "output_type": "stream",
     "text": [
      "emp_length\n",
      "Mean: 0.12546046663057442\n",
      "Median: 0.0\n",
      "Max: 1.9924301646902063\n",
      "\n"
     ]
    },
    {
     "data": {
      "image/png": "[encoded data removed]",
      "text/plain": [
       "<Figure size 432x288 with 1 Axes>"
      ]
     },
     "metadata": {
      "needs_background": "light"
     },
     "output_type": "display_data"
    }
   ],
   "source": [
    "for feature in ['loan_amnt','dti','emp_length']:\n",
    "    plt.hist(processed_loan_data[feature])\n",
    "    print(feature)\n",
    "    print(\"Mean: {}\".format(np.mean(processed_loan_data[feature])))\n",
    "    print(\"Median: {}\".format(np.median(processed_loan_data[feature])))\n",
    "    print(\"Max: {}\".format(np.max(processed_loan_data[feature])))\n",
    "    print()\n",
    "    plt.title(feature)\n",
    "    plt.show()"
   ]
  },
  {
   "cell_type": "markdown",
   "metadata": {},
   "source": [
    "### 5. Modeling\n",
    "\n",
    "I chose a Random Forest Classifier to be my model. The choice to make this a classification problem was due to the fact that it comes naturally from the set up. We are attempting to tell, given novel data, if a loan request will be rejected or approved. This gives us two classes.\n",
    "\n",
    "I used a Random Forest for several reasons. Firstly, RF's can handle a large amounts of features from various types (we have both categorical and numnerical, and many of them) and can handle large amount of data (of which we have a lot). Secondly, it has a built in validation technque, called OOB or Out of Bag estimation, which does a good job of estimating the performance on unseen data.\n",
    "\n",
    "I split the data into a training and test set, stratifying on approved, wth a test set size of 20%. \n",
    "\n",
    "I chose the number of estimators to be 100 to be a good compromise between time and size. I also selected the class_weight to be 'balanced_subsample', as this helped to deal with the fact that there were many more rejected than approved data points.\n",
    "\n",
    "I trained a model using these parameters, and used the OOB score to estimate how well it would do. It got 96.4% accuracy. \n",
    "\n",
    "I then used a cross validation technique to choose the max_depth. I had a range of four possible max_depths, and used GridSearchCV to cross validate over all possibilites. It returned a max_depth of 50, which I then used to train a new model. This model's OOB score was 96.6% accuracy, which was an incredibly small improvement, but an improvement nonetheless. \n",
    "\n",
    "#### Results\n",
    "\n",
    "I made classification predictions using the held out data and used the classification report function to report on the results. The overall precision score matched that of the OOB, at 97%. However, there was a dscrepency between the classes. The precision and recall for rejected were 99% and 98%, while the precison and recall for approved was only 65% and 73%. This shows that the classifier is much better at predicting rejected data than approved. The precision of the approved indicates the percentage of data points that were classified as approved were actually approved. Thus, we can see that of the people who were classified as approved, 35% would actually be rejected. The recall tells us how much of those that were actually approved were classified as approved, showing that 27% of those who were actually approved would not be classifed as approved. \n",
    "\n",
    "Our model performed a lot better on the rejected data. This could be attributed to aspects of the data, where it is harder to predict approved, or due to the fact that there were so many more rejected data points, which allowed the model to learn more from them and perform much better on the rejected data.\n",
    "\n",
    "For future work, the next steps would be to try different modeling approaches (instead of tweaking parameters) to see if we could get a model that can predict approved data more accurately. "
   ]
  },
  {
   "cell_type": "code",
   "execution_count": 27,
   "metadata": {},
   "outputs": [],
   "source": [
    "# add all features expect approved\n",
    "feature_cols = [feature for feature in processed_loan_data.columns if feature != 'approved']\n",
    "features = processed_loan_data.loc[:, feature_cols]\n",
    "\n",
    "x_train_clf, x_test_clf, y_train_clf, y_test_clf = train_test_split(\n",
    "    features,\n",
    "    processed_loan_data.approved,\n",
    "    test_size=0.2,\n",
    "    train_size=0.8,\n",
    "    random_state=10,\n",
    "    stratify=loan_data.approved)"
   ]
  },
  {
   "cell_type": "code",
   "execution_count": 32,
   "metadata": {},
   "outputs": [],
   "source": [
    "clf = RandomForestClassifier(n_estimators = 100, oob_score = True,\n",
    "                            random_state = 10, n_jobs= -1, class_weight = 'balanced_subsample')"
   ]
  },
  {
   "cell_type": "code",
   "execution_count": 33,
   "metadata": {},
   "outputs": [
    {
     "data": {
      "text/plain": [
       "RandomForestClassifier(bootstrap=True, class_weight='balanced_subsample',\n",
       "            criterion='gini', max_depth=None, max_features='auto',\n",
       "            max_leaf_nodes=None, min_impurity_decrease=0.0,\n",
       "            min_impurity_split=None, min_samples_leaf=1,\n",
       "            min_samples_split=2, min_weight_fraction_leaf=0.0,\n",
       "            n_estimators=100, n_jobs=-1, oob_score=True, random_state=10,\n",
       "            verbose=0, warm_start=False)"
      ]
     },
     "execution_count": 33,
     "metadata": {},
     "output_type": "execute_result"
    }
   ],
   "source": [
    "clf.fit(x_train_clf, y_train_clf)"
   ]
  },
  {
   "cell_type": "code",
   "execution_count": 34,
   "metadata": {},
   "outputs": [
    {
     "name": "stdout",
     "output_type": "stream",
     "text": [
      "0.9641823300142551\n"
     ]
    }
   ],
   "source": [
    "oob = clf.oob_score_\n",
    "print (oob)"
   ]
  },
  {
   "cell_type": "code",
   "execution_count": 28,
   "metadata": {},
   "outputs": [],
   "source": [
    "# Optimize the max_depth\n",
    "\n",
    "param_grid = {'max_depth': [50,100,150,200]}\n",
    "\n",
    "# Create the model model\n",
    "clf_opt = RandomForestClassifier(n_estimators = 100, oob_score = True,\n",
    "                            random_state = 10, n_jobs= -1, class_weight = 'balanced_subsample')\n",
    "\n",
    "# Instantiate the grid search model\n",
    "grid_search = GridSearchCV(estimator = clf_opt, param_grid = param_grid, \n",
    "                           n_jobs = -1)\n"
   ]
  },
  {
   "cell_type": "code",
   "execution_count": 29,
   "metadata": {},
   "outputs": [
    {
     "name": "stderr",
     "output_type": "stream",
     "text": [
      "/usr/local/lib/python3.7/site-packages/sklearn/model_selection/_split.py:1943: FutureWarning: You should specify a value for 'cv' instead of relying on the default value. The default value will change from 3 to 5 in version 0.22.\n",
      "  warnings.warn(CV_WARNING, FutureWarning)\n"
     ]
    },
    {
     "data": {
      "text/plain": [
       "GridSearchCV(cv='warn', error_score='raise-deprecating',\n",
       "       estimator=RandomForestClassifier(bootstrap=True, class_weight='balanced_subsample',\n",
       "            criterion='gini', max_depth=None, max_features='auto',\n",
       "            max_leaf_nodes=None, min_impurity_decrease=0.0,\n",
       "            min_impurity_split=None, min_samples_leaf=1,\n",
       "            min_samples_split=2, min_weight_fraction_leaf=0.0,\n",
       "            n_estimators=100, n_jobs=-1, oob_score=True, random_state=10,\n",
       "            verbose=0, warm_start=False),\n",
       "       fit_params=None, iid='warn', n_jobs=-1,\n",
       "       param_grid={'max_depth': [50, 100, 150, 200]},\n",
       "       pre_dispatch='2*n_jobs', refit=True, return_train_score='warn',\n",
       "       scoring=None, verbose=0)"
      ]
     },
     "execution_count": 29,
     "metadata": {},
     "output_type": "execute_result"
    }
   ],
   "source": [
    "grid_search.fit(x_train_clf, y_train_clf)"
   ]
  },
  {
   "cell_type": "code",
   "execution_count": 30,
   "metadata": {},
   "outputs": [],
   "source": [
    "best_parameters = grid_search.best_params_"
   ]
  },
  {
   "cell_type": "code",
   "execution_count": 31,
   "metadata": {},
   "outputs": [
    {
     "data": {
      "text/plain": [
       "{'max_depth': 50}"
      ]
     },
     "execution_count": 31,
     "metadata": {},
     "output_type": "execute_result"
    }
   ],
   "source": [
    "best_parameters"
   ]
  },
  {
   "cell_type": "code",
   "execution_count": 36,
   "metadata": {},
   "outputs": [],
   "source": [
    "clf_opt = RandomForestClassifier(n_estimators = 100, oob_score = True, max_depth = 50,\n",
    "                            random_state = 10, n_jobs= -1, class_weight = 'balanced_subsample')"
   ]
  },
  {
   "cell_type": "code",
   "execution_count": 37,
   "metadata": {},
   "outputs": [
    {
     "data": {
      "text/plain": [
       "RandomForestClassifier(bootstrap=True, class_weight='balanced_subsample',\n",
       "            criterion='gini', max_depth=50, max_features='auto',\n",
       "            max_leaf_nodes=None, min_impurity_decrease=0.0,\n",
       "            min_impurity_split=None, min_samples_leaf=1,\n",
       "            min_samples_split=2, min_weight_fraction_leaf=0.0,\n",
       "            n_estimators=100, n_jobs=-1, oob_score=True, random_state=10,\n",
       "            verbose=0, warm_start=False)"
      ]
     },
     "execution_count": 37,
     "metadata": {},
     "output_type": "execute_result"
    }
   ],
   "source": [
    "clf_opt.fit(x_train_clf, y_train_clf)"
   ]
  },
  {
   "cell_type": "code",
   "execution_count": 38,
   "metadata": {},
   "outputs": [
    {
     "data": {
      "text/plain": [
       "0.9660135399732388"
      ]
     },
     "execution_count": 38,
     "metadata": {},
     "output_type": "execute_result"
    }
   ],
   "source": [
    "clf_opt.oob_score_"
   ]
  },
  {
   "cell_type": "code",
   "execution_count": 42,
   "metadata": {},
   "outputs": [],
   "source": [
    "clf_opt_predict = clf_opt.predict(x_test_clf)"
   ]
  },
  {
   "cell_type": "code",
   "execution_count": 48,
   "metadata": {},
   "outputs": [
    {
     "name": "stdout",
     "output_type": "stream",
     "text": [
      "              precision    recall  f1-score   support\n",
      "\n",
      "    rejected       0.99      0.98      0.98    488397\n",
      "    approved       0.65      0.73      0.69     26154\n",
      "\n",
      "   micro avg       0.97      0.97      0.97    514551\n",
      "   macro avg       0.82      0.86      0.84    514551\n",
      "weighted avg       0.97      0.97      0.97    514551\n",
      "\n"
     ]
    }
   ],
   "source": [
    "print (classification_report(y_test_clf, clf_opt_predict,\n",
    "                            target_names = ['rejected', 'approved']))"
   ]
  },
  {
   "cell_type": "code",
   "execution_count": 47,
   "metadata": {},
   "outputs": [
    {
     "name": "stdout",
     "output_type": "stream",
     "text": [
      "Top 10 features:\n"
     ]
    },
    {
     "data": {
      "text/plain": [
       "[(0.6369479180381388, 'emp_length'),\n",
       " (0.18946499404204575, 'dti'),\n",
       " (0.09759010960354242, 'loan_amnt'),\n",
       " (0.012208718096336734, 'title_x0_10.0'),\n",
       " (0.007535546943122782, 'title_x0_1.0'),\n",
       " (0.007288179898352476, 'title_x0_6.0'),\n",
       " (0.006735708339268878, 'title_x0_2.0'),\n",
       " (0.0037705191536503303, 'title_x0_3.0'),\n",
       " (0.0031864725327647963, 'title_x0_9.0'),\n",
       " (0.002955285839815134, 'title_x0_5.0')]"
      ]
     },
     "execution_count": 47,
     "metadata": {},
     "output_type": "execute_result"
    }
   ],
   "source": [
    "print (\"Top 10 features:\")\n",
    "sorted(zip(clf_opt.feature_importances_, \n",
    "           list(processed_loan_data)), reverse = True)[:10]"
   ]
  }
 ],
 "metadata": {
  "kernelspec": {
   "display_name": "Python 3",
   "language": "python",
   "name": "python3"
  },
  "language_info": {
   "codemirror_mode": {
    "name": "ipython",
    "version": 3
   },
   "file_extension": ".py",
   "mimetype": "text/x-python",
   "name": "python",
   "nbconvert_exporter": "python",
   "pygments_lexer": "ipython3",
   "version": "3.7.0"
  }
 },
 "nbformat": 4,
 "nbformat_minor": 2
}
